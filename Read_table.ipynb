{
 "cells": [
  {
   "cell_type": "code",
   "execution_count": 13,
   "id": "3c7bb4ff",
   "metadata": {},
   "outputs": [],
   "source": [
    "import pandas as pd\n",
    "import numpy as np\n",
    "import re"
   ]
  },
  {
   "cell_type": "code",
   "execution_count": 16,
   "id": "7399d7a5",
   "metadata": {},
   "outputs": [
    {
     "name": "stdout",
     "output_type": "stream",
     "text": [
      "TNS_ID      DiscoveryDate            RA            DEC      Sep_arcsec        Sep_kpc\n",
      "2023uht* 2023-10-07 14:47:28.320 10:05:54.018 +37:04:51.73 5.942710525760449 4260.754515934403 08-Oct-2023\n",
      "2023ujf* 2023-10-07 07:52:34.752 01:23:04.875 +14:14:25.86 4.723233967715075 5201.394840726184 09-Oct-2023\n",
      "2023ubs* 2023-10-04 15:13:43.392 08:49:54.011 +40:31:10.21 8.777406191463035 6339.332218943499 06-Oct-2023\n"
     ]
    }
   ],
   "source": [
    "csv_file_path = './TNS_match_GC.csv'\n",
    "\n",
    "TNS_table = pd.read_csv(csv_file_path)\n",
    "\n",
    "'''\n",
    "\"TNS_ID\" : TNS name\n",
    "\"Sep_arcsec\" : distance to closest galaxy\n",
    "\"Gal_1_type\" : closest galaxy type\n",
    "\"Gal_1_name\" : closest galaxy name\n",
    "\"Gal_1_ABS_Mag\" :Absolute Magnitude calcuate by Galaxy distace with TNS mag \n",
    "\"Gal_1_info\" : closest galaxy more info include in array\n",
    "            Simbad:\n",
    "               [name,RA,DEC,sep(arcsec),sep(kpc),Object type,Object type_opt]\n",
    "            GLADE:\n",
    "               [RA,DEC,Flag1,all_dist,all_z,sep(arcsec),sep(kpc)]\n",
    "'''\n",
    "\n",
    "print('TNS_ID      DiscoveryDate            RA            DEC      Sep_arcsec        Sep_kpc')\n",
    "for i in range(len(TNS_table)):\n",
    "    matches = re.findall(r\"'([^']+)'\", TNS_table['Gal_1_info'][i])\n",
    "    \n",
    "    \n",
    "    print(TNS_table['TNS_ID'][i],TNS_table['DiscoveryDate'][i],TNS_table['RA'][i],TNS_table['DEC'][i],\\\n",
    "          TNS_table['Sep_arcsec'][i],TNS_table['Sep_kpc'][i],TNS_table['ReportDate'][i])\n"
   ]
  },
  {
   "cell_type": "code",
   "execution_count": 17,
   "id": "e1a9fdf9",
   "metadata": {
    "scrolled": false
   },
   "outputs": [
    {
     "data": {
      "text/html": [
       "<div>\n",
       "<style scoped>\n",
       "    .dataframe tbody tr th:only-of-type {\n",
       "        vertical-align: middle;\n",
       "    }\n",
       "\n",
       "    .dataframe tbody tr th {\n",
       "        vertical-align: top;\n",
       "    }\n",
       "\n",
       "    .dataframe thead th {\n",
       "        text-align: right;\n",
       "    }\n",
       "</style>\n",
       "<table border=\"1\" class=\"dataframe\">\n",
       "  <thead>\n",
       "    <tr style=\"text-align: right;\">\n",
       "      <th></th>\n",
       "      <th>TNS_ID</th>\n",
       "      <th>RA</th>\n",
       "      <th>DEC</th>\n",
       "      <th>DiscoveryDate</th>\n",
       "      <th>ReportDate</th>\n",
       "      <th>Mag</th>\n",
       "      <th>MagUnit</th>\n",
       "      <th>Filter</th>\n",
       "      <th>Sep_arcsec</th>\n",
       "      <th>Sep_kpc</th>\n",
       "      <th>Gal_1_type</th>\n",
       "      <th>Gal_1_ABS_Mag</th>\n",
       "      <th>Gal_1_dist</th>\n",
       "      <th>Gal_1_info</th>\n",
       "      <th>Reporter</th>\n",
       "    </tr>\n",
       "  </thead>\n",
       "  <tbody>\n",
       "    <tr>\n",
       "      <th>0</th>\n",
       "      <td>2023uht*</td>\n",
       "      <td>10:05:54.018</td>\n",
       "      <td>+37:04:51.73</td>\n",
       "      <td>2023-10-07 14:47:28.320</td>\n",
       "      <td>08-Oct-2023</td>\n",
       "      <td>18.457</td>\n",
       "      <td>ABMag</td>\n",
       "      <td>orange - ATLAS</td>\n",
       "      <td>5.942711</td>\n",
       "      <td>4260.754516</td>\n",
       "      <td>DG_GALAXY_STARFORMING</td>\n",
       "      <td>-9.690433</td>\n",
       "      <td>147886.002678</td>\n",
       "      <td>['SDSS_52993_PLATEID_1426_FIBERID_134' '151.47...</td>\n",
       "      <td>J. Tonry</td>\n",
       "    </tr>\n",
       "    <tr>\n",
       "      <th>1</th>\n",
       "      <td>2023ujf*</td>\n",
       "      <td>01:23:04.875</td>\n",
       "      <td>+14:14:25.86</td>\n",
       "      <td>2023-10-07 07:52:34.752</td>\n",
       "      <td>09-Oct-2023</td>\n",
       "      <td>20.200</td>\n",
       "      <td>ABMag</td>\n",
       "      <td>w - P1</td>\n",
       "      <td>4.723234</td>\n",
       "      <td>5201.394841</td>\n",
       "      <td>DG_GALAXY_</td>\n",
       "      <td>-8.380599</td>\n",
       "      <td>227146.210921</td>\n",
       "      <td>['SDSS_51893_PLATEID_424_FIBERID_175' '20.7692...</td>\n",
       "      <td>K. C. Chambers</td>\n",
       "    </tr>\n",
       "    <tr>\n",
       "      <th>2</th>\n",
       "      <td>2023ubs*</td>\n",
       "      <td>08:49:54.011</td>\n",
       "      <td>+40:31:10.21</td>\n",
       "      <td>2023-10-04 15:13:43.392</td>\n",
       "      <td>06-Oct-2023</td>\n",
       "      <td>19.280</td>\n",
       "      <td>ABMag</td>\n",
       "      <td>y - P1</td>\n",
       "      <td>8.777406</td>\n",
       "      <td>6339.332219</td>\n",
       "      <td>DG_GALAXY_STARBURST</td>\n",
       "      <td>-9.730218</td>\n",
       "      <td>148971.245428</td>\n",
       "      <td>['SDSS_52293_PLATEID_830_FIBERID_242' '132.472...</td>\n",
       "      <td>K. C. Chambers</td>\n",
       "    </tr>\n",
       "  </tbody>\n",
       "</table>\n",
       "</div>"
      ],
      "text/plain": [
       "     TNS_ID            RA           DEC            DiscoveryDate   ReportDate  \\\n",
       "0  2023uht*  10:05:54.018  +37:04:51.73  2023-10-07 14:47:28.320  08-Oct-2023   \n",
       "1  2023ujf*  01:23:04.875  +14:14:25.86  2023-10-07 07:52:34.752  09-Oct-2023   \n",
       "2  2023ubs*  08:49:54.011  +40:31:10.21  2023-10-04 15:13:43.392  06-Oct-2023   \n",
       "\n",
       "      Mag MagUnit          Filter  Sep_arcsec      Sep_kpc  \\\n",
       "0  18.457   ABMag  orange - ATLAS    5.942711  4260.754516   \n",
       "1  20.200   ABMag          w - P1    4.723234  5201.394841   \n",
       "2  19.280   ABMag          y - P1    8.777406  6339.332219   \n",
       "\n",
       "              Gal_1_type  Gal_1_ABS_Mag     Gal_1_dist  \\\n",
       "0  DG_GALAXY_STARFORMING      -9.690433  147886.002678   \n",
       "1             DG_GALAXY_      -8.380599  227146.210921   \n",
       "2    DG_GALAXY_STARBURST      -9.730218  148971.245428   \n",
       "\n",
       "                                          Gal_1_info        Reporter  \n",
       "0  ['SDSS_52993_PLATEID_1426_FIBERID_134' '151.47...        J. Tonry  \n",
       "1  ['SDSS_51893_PLATEID_424_FIBERID_175' '20.7692...  K. C. Chambers  \n",
       "2  ['SDSS_52293_PLATEID_830_FIBERID_242' '132.472...  K. C. Chambers  "
      ]
     },
     "execution_count": 17,
     "metadata": {},
     "output_type": "execute_result"
    }
   ],
   "source": [
    "TNS_table[:20]"
   ]
  },
  {
   "cell_type": "code",
   "execution_count": null,
   "id": "0113ed63",
   "metadata": {},
   "outputs": [],
   "source": []
  },
  {
   "cell_type": "code",
   "execution_count": null,
   "id": "0fb86515",
   "metadata": {},
   "outputs": [],
   "source": []
  }
 ],
 "metadata": {
  "kernelspec": {
   "display_name": "Python 3 (ipykernel)",
   "language": "python",
   "name": "python3"
  },
  "language_info": {
   "codemirror_mode": {
    "name": "ipython",
    "version": 3
   },
   "file_extension": ".py",
   "mimetype": "text/x-python",
   "name": "python",
   "nbconvert_exporter": "python",
   "pygments_lexer": "ipython3",
   "version": "3.8.2"
  }
 },
 "nbformat": 4,
 "nbformat_minor": 5
}
