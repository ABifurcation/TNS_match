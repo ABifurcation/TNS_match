{
 "cells": [
  {
   "cell_type": "code",
   "execution_count": null,
   "id": "3c7bb4ff",
   "metadata": {},
   "outputs": [],
   "source": [
    "import pandas as pd\n",
    "import numpy as np\n",
    "import re\n",
    "import ipywidgets as widgets\n",
    "from IPython.display import display"
   ]
  },
  {
   "cell_type": "code",
   "execution_count": null,
   "id": "7399d7a5",
   "metadata": {
    "scrolled": true
   },
   "outputs": [],
   "source": [
    "# csv_file_path = './TNS_match_GC.csv'\n",
    "csv_file_path = './TNS_match_GLADE.csv'\n",
    "\n",
    "TNS_table = pd.read_csv(csv_file_path)\n",
    "\n",
    "'''\n",
    "\"TNS_ID\" : TNS name\n",
    "\"Sep_arcsec\" : distance to closest galaxy\n",
    "\"Gal_1_type\" : closest galaxy type\n",
    "\"Gal_1_name\" : closest galaxy name\n",
    "\"Gal_1_ABS_Mag\" :Absolute Magnitude calcuate by Galaxy distace with TNS mag \n",
    "\"Gal_1_info\" : closest galaxy more info include in array\n",
    "            Simbad:\n",
    "               [name,RA,DEC,sep(arcsec),sep(kpc),Object type,Object type_opt]\n",
    "            GLADE:\n",
    "               [RA,DEC,Flag1,dist,z,sep(arcsec),sep(kpc)]\n",
    "            SDSS:\n",
    "               [RA,DEC,obj_class,dist,z,sep(arcsec),sep(kpc)]\n",
    "'''\n",
    "\n",
    "print('TNS_ID      DiscoveryDate            RA            DEC      Sep_arcsec        Sep_kpc')\n",
    "for i in range(100):        \n",
    "    print(TNS_table['TNS_ID'][i],TNS_table['DiscoveryDate'][i],TNS_table['RA'][i],TNS_table['DEC'][i],\\\n",
    "          TNS_table['Sep_arcsec'][i],TNS_table['Sep_kpc'][i],TNS_table['ReportDate'][i])        "
   ]
  },
  {
   "cell_type": "code",
   "execution_count": null,
   "id": "e1a9fdf9",
   "metadata": {
    "scrolled": true
   },
   "outputs": [],
   "source": [
    "print('RA            DEC    Galaxy    type      distane      redshift       Sep_arcsec        Sep_kpc')\n",
    "for i in range(100):\n",
    "    matches = re.findall(r\"'([^']+)'\", TNS_table['Gal_1_info'][i])\n",
    "    print(matches)"
   ]
  },
  {
   "cell_type": "code",
   "execution_count": null,
   "id": "ab6294d8",
   "metadata": {},
   "outputs": [],
   "source": []
  },
  {
   "cell_type": "code",
   "execution_count": null,
   "id": "6c4ba808",
   "metadata": {
    "scrolled": false
   },
   "outputs": [],
   "source": [
    "kpc_filter_table = pd.read_csv('TNS_match_all.csv')\n",
    "\n",
    "\n",
    "# Dropdown for column selection\n",
    "column_dropdown = widgets.Dropdown(\n",
    "    options=kpc_filter_table.columns,\n",
    "    value=kpc_filter_table.columns[10],\n",
    "    description='Column:',\n",
    "    disabled=False,\n",
    ")\n",
    "\n",
    "# Function to sort and display DataFrame\n",
    "def sort_dataframe(column):\n",
    "    display(kpc_filter_table.sort_values(by=column))\n",
    "\n",
    "# Interactive widget\n",
    "widgets.interactive(sort_dataframe, column=column_dropdown)\n"
   ]
  },
  {
   "cell_type": "code",
   "execution_count": null,
   "id": "123605e8",
   "metadata": {},
   "outputs": [],
   "source": []
  },
  {
   "cell_type": "code",
   "execution_count": null,
   "id": "b6b2ce58",
   "metadata": {},
   "outputs": [],
   "source": []
  },
  {
   "cell_type": "code",
   "execution_count": null,
   "id": "c0ad530f",
   "metadata": {},
   "outputs": [],
   "source": []
  },
  {
   "cell_type": "code",
   "execution_count": null,
   "id": "396cf81f",
   "metadata": {},
   "outputs": [],
   "source": []
  },
  {
   "cell_type": "code",
   "execution_count": null,
   "id": "8da7c798",
   "metadata": {},
   "outputs": [],
   "source": []
  },
  {
   "cell_type": "code",
   "execution_count": null,
   "id": "9708759a",
   "metadata": {},
   "outputs": [],
   "source": []
  },
  {
   "cell_type": "code",
   "execution_count": null,
   "id": "26ecc970",
   "metadata": {},
   "outputs": [],
   "source": []
  },
  {
   "cell_type": "code",
   "execution_count": null,
   "id": "080520a6",
   "metadata": {},
   "outputs": [],
   "source": []
  },
  {
   "cell_type": "code",
   "execution_count": null,
   "id": "b5336ab7",
   "metadata": {},
   "outputs": [],
   "source": []
  },
  {
   "cell_type": "code",
   "execution_count": null,
   "id": "f305fbdc",
   "metadata": {},
   "outputs": [],
   "source": []
  },
  {
   "cell_type": "code",
   "execution_count": null,
   "id": "48ec0e9b",
   "metadata": {},
   "outputs": [],
   "source": []
  },
  {
   "cell_type": "code",
   "execution_count": null,
   "id": "77b56569",
   "metadata": {},
   "outputs": [],
   "source": []
  },
  {
   "cell_type": "code",
   "execution_count": null,
   "id": "b3851bfc",
   "metadata": {},
   "outputs": [],
   "source": [
    "# https://www.wis-tns.org/object/2023xvz"
   ]
  }
 ],
 "metadata": {
  "kernelspec": {
   "display_name": "Python 3 (ipykernel)",
   "language": "python",
   "name": "python3"
  },
  "language_info": {
   "codemirror_mode": {
    "name": "ipython",
    "version": 3
   },
   "file_extension": ".py",
   "mimetype": "text/x-python",
   "name": "python",
   "nbconvert_exporter": "python",
   "pygments_lexer": "ipython3",
   "version": "3.8.2"
  }
 },
 "nbformat": 4,
 "nbformat_minor": 5
}
