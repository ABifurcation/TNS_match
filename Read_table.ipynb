{
 "cells": [
  {
   "cell_type": "code",
   "execution_count": 1,
   "id": "3c7bb4ff",
   "metadata": {},
   "outputs": [],
   "source": [
    "import pandas as pd\n"
   ]
  },
  {
   "cell_type": "code",
   "execution_count": 5,
   "id": "7399d7a5",
   "metadata": {},
   "outputs": [
    {
     "name": "stdout",
     "output_type": "stream",
     "text": [
      "2023tqr 07:54:40.820 +23:03:23.65 2.486 Galaxy\n",
      "2023tre 07:57:43.579 +27:19:42.68 4.459 Galaxy\n"
     ]
    }
   ],
   "source": [
    "\n",
    "csv_file_path = './Everyday_table/TNS_27-Sep-2023.csv'\n",
    "\n",
    "TNS_table = pd.read_csv(csv_file_path)\n",
    "\n",
    "'''\n",
    "\"Unnamed: 0\" : TNS name\n",
    "\"Sep_arcsec\" : distance to closest galaxy\n",
    "\"Gal_1_type\" : closest galaxy type\n",
    "\"Gal_1_name\" : closest galaxy name\n",
    "\"Gal_1_info\" : closest galaxy more info include in array\n",
    "               [name,RA,DEC,sep(arcsec),sep(kpc),Object type,Object type_opt]\n",
    "'''\n",
    "for i in range(len(TNS_table)):\n",
    "    print(TNS_table['Unnamed: 0'][i],TNS_table['RA'][i],TNS_table['DEC'][i],\\\n",
    "          TNS_table['Sep_arcsec'][i],TNS_table['Gal_1_type'][i])\n",
    "\n"
   ]
  },
  {
   "cell_type": "code",
   "execution_count": null,
   "id": "e1a9fdf9",
   "metadata": {},
   "outputs": [],
   "source": []
  },
  {
   "cell_type": "code",
   "execution_count": null,
   "id": "0113ed63",
   "metadata": {},
   "outputs": [],
   "source": []
  },
  {
   "cell_type": "code",
   "execution_count": null,
   "id": "0fb86515",
   "metadata": {},
   "outputs": [],
   "source": []
  }
 ],
 "metadata": {
  "kernelspec": {
   "display_name": "Python 3 (ipykernel)",
   "language": "python",
   "name": "python3"
  },
  "language_info": {
   "codemirror_mode": {
    "name": "ipython",
    "version": 3
   },
   "file_extension": ".py",
   "mimetype": "text/x-python",
   "name": "python",
   "nbconvert_exporter": "python",
   "pygments_lexer": "ipython3",
   "version": "3.8.2"
  }
 },
 "nbformat": 4,
 "nbformat_minor": 5
}
